{
 "cells": [
  {
   "cell_type": "markdown",
   "metadata": {},
   "source": [
    "# Scraping static websites\n",
    "\n",
    "Jaime Lopez  \n",
    "jailop AT protonmail DOT com  \n",
    "Mar. 2020\n",
    "\n",
    "A lot of websites have valluable information, but gaining access to it for analytic purposes can be hard. There is when you new to scrap a website to get the data from it. In this notebook, it is shown an example on scraping a static website. It must be observed to respect rights about the information, for example citing correctly the source when you make use of it."
   ]
  },
  {
   "cell_type": "code",
   "execution_count": 1,
   "metadata": {},
   "outputs": [],
   "source": [
    "import requests\n",
    "from lxml import html\n",
    "import glob\n",
    "import re\n",
    "import pandas as pd\n",
    "import matplotlib.pyplot as plt\n",
    "import seaborn as sns\n",
    "from ipywidgets import widgets, interact"
   ]
  },
  {
   "cell_type": "markdown",
   "metadata": {},
   "source": [
    "## Product price index: how much are farmers making?\n",
    "\n",
    "**Product Price Index** is website maitained by Western Growers Association. It contains an historical table of prices reported for farmers and retailers about agricultural products. The purpose of the site is shown how much money are really farmers making when they sell their products to retailers.\n",
    "\n",
    "![shootscreen](images/productpriceindex.png)"
   ]
  },
  {
   "cell_type": "markdown",
   "metadata": {},
   "source": [
    "Despite the value of this information, the problem is that it can only reviewed in the website. That condition restrains posibilities to analyze the data."
   ]
  },
  {
   "cell_type": "markdown",
   "metadata": {},
   "source": [
    "## URL structure\n",
    "\n",
    "[productpriceindex.com](http://www.producepriceindex.com/) can be browsed changing the page number in the next link. Visually, navigation is made using a page selector in the bottom of each page.\n",
    "\n",
    "![pageselector](images/productpriceindex_nav.png)"
   ]
  },
  {
   "cell_type": "code",
   "execution_count": 2,
   "metadata": {},
   "outputs": [],
   "source": [
    "url = \"http://www.producepriceindex.com/produce-price-index?page={}\""
   ]
  },
  {
   "cell_type": "markdown",
   "metadata": {},
   "source": [
    "## Page scraper\n",
    "\n",
    "The scraper look for each record. In the HTML source, it can be seem that records are contained in a table.\n",
    "\n",
    "![records](images/productpriceindex_rec_html.png)"
   ]
  },
  {
   "cell_type": "code",
   "execution_count": 3,
   "metadata": {},
   "outputs": [],
   "source": [
    "def scrap(page, first=False, sep=','):\n",
    "    ret = ''\n",
    "    if first:\n",
    "        headers = [el.strip() for el in page.xpath(\"//thead/tr/th/text()\")]\n",
    "        ret += sep.join(headers) + \"\\n\"\n",
    "        first = False\n",
    "    rows = page.xpath(\"//tbody/tr\")\n",
    "    for row in rows:\n",
    "        cells = [\n",
    "            re.sub(\"\\$|\\%|,\", \"\", el.text_content().strip())\n",
    "            for el in row.xpath(\"./td\")\n",
    "        ]\n",
    "        ret += sep.join(cells) + \"\\n\"\n",
    "    return ret"
   ]
  },
  {
   "cell_type": "markdown",
   "metadata": {},
   "source": [
    "## Page crawler\n",
    "\n",
    "The first step to build our scraper is defining a function to navigate among all pages."
   ]
  },
  {
   "cell_type": "code",
   "execution_count": 4,
   "metadata": {},
   "outputs": [],
   "source": [
    "def crawler():\n",
    "    \"\"\"\n",
    "    Param:\n",
    "        funcproc : A function to process content\n",
    "                   for each downloaded page\n",
    "    \"\"\"\n",
    "    i = 0  # Starting page\n",
    "    ret = ''\n",
    "    while True:\n",
    "        # Obtaining current page\n",
    "        text = requests.get(url.format(i)).text\n",
    "        page = html.fromstring(text)\n",
    "        ret += scrap(page, first = True if i == 0 else False)\n",
    "        # Looking for next page\n",
    "        if i > 0:\n",
    "            go = page.xpath(\"//ul[@class='pagination']/li/a/@title\")\n",
    "            look = [el for el in go if el.find(f\" {i}\") > 0]\n",
    "            if len(look) == 0:\n",
    "                break\n",
    "        print('Page %d\\r' % i, end='')\n",
    "        i += 1\n",
    "    return ret"
   ]
  },
  {
   "cell_type": "markdown",
   "metadata": {},
   "source": [
    "The key point in previous code is the xpath sentence, which is infered reviewing the HTML source in the website.\n",
    "\n",
    "![navbarhtml](images/productpriceindex_nav_html.png)"
   ]
  },
  {
   "cell_type": "markdown",
   "metadata": {},
   "source": [
    "## Testing the scraper\n",
    "\n",
    "In this section the scraper is tested. Results are stored in a temporal CSV file. This section can take a long time running."
   ]
  },
  {
   "cell_type": "code",
   "execution_count": 5,
   "metadata": {},
   "outputs": [
    {
     "name": "stdout",
     "output_type": "stream",
     "text": [
      "Page 637\r"
     ]
    }
   ],
   "source": [
    "with open('data/productpriceindex.csv', 'w') as fd:\n",
    "    fd.write(crawler())"
   ]
  },
  {
   "cell_type": "markdown",
   "metadata": {},
   "source": [
    "## Playing with the data\n",
    "\n",
    "Data has been downloaded. It is ready to be consumed by an analytical procedure."
   ]
  },
  {
   "cell_type": "code",
   "execution_count": 6,
   "metadata": {},
   "outputs": [
    {
     "data": {
      "text/html": [
       "<div>\n",
       "<style scoped>\n",
       "    .dataframe tbody tr th:only-of-type {\n",
       "        vertical-align: middle;\n",
       "    }\n",
       "\n",
       "    .dataframe tbody tr th {\n",
       "        vertical-align: top;\n",
       "    }\n",
       "\n",
       "    .dataframe thead th {\n",
       "        text-align: right;\n",
       "    }\n",
       "</style>\n",
       "<table border=\"1\" class=\"dataframe\">\n",
       "  <thead>\n",
       "    <tr style=\"text-align: right;\">\n",
       "      <th></th>\n",
       "      <th>Commodity</th>\n",
       "      <th>Record Date</th>\n",
       "      <th>Farm Price</th>\n",
       "      <th>Atlanta Retail</th>\n",
       "      <th>Chicago Retail</th>\n",
       "      <th>Los Angeles Retail</th>\n",
       "      <th>New York Retail</th>\n",
       "      <th>Average Spread</th>\n",
       "    </tr>\n",
       "  </thead>\n",
       "  <tbody>\n",
       "    <tr>\n",
       "      <th>0</th>\n",
       "      <td>Strawberries</td>\n",
       "      <td>2019-05-19</td>\n",
       "      <td>1.16</td>\n",
       "      <td>2.23</td>\n",
       "      <td>1.70</td>\n",
       "      <td>1.99</td>\n",
       "      <td>2.54</td>\n",
       "      <td>82.33</td>\n",
       "    </tr>\n",
       "    <tr>\n",
       "      <th>1</th>\n",
       "      <td>Romaine Lettuce</td>\n",
       "      <td>2019-05-19</td>\n",
       "      <td>0.35</td>\n",
       "      <td>1.72</td>\n",
       "      <td>2.00</td>\n",
       "      <td>1.69</td>\n",
       "      <td>1.99</td>\n",
       "      <td>428.57</td>\n",
       "    </tr>\n",
       "    <tr>\n",
       "      <th>2</th>\n",
       "      <td>Red Leaf Lettuce</td>\n",
       "      <td>2019-05-19</td>\n",
       "      <td>0.32</td>\n",
       "      <td>1.84</td>\n",
       "      <td>1.84</td>\n",
       "      <td>1.69</td>\n",
       "      <td>1.89</td>\n",
       "      <td>467.19</td>\n",
       "    </tr>\n",
       "    <tr>\n",
       "      <th>3</th>\n",
       "      <td>Potatoes</td>\n",
       "      <td>2019-05-19</td>\n",
       "      <td>1.50</td>\n",
       "      <td>5.32</td>\n",
       "      <td>5.14</td>\n",
       "      <td>3.99</td>\n",
       "      <td>6.22</td>\n",
       "      <td>244.50</td>\n",
       "    </tr>\n",
       "    <tr>\n",
       "      <th>4</th>\n",
       "      <td>Oranges</td>\n",
       "      <td>2019-05-19</td>\n",
       "      <td>0.41</td>\n",
       "      <td>1.42</td>\n",
       "      <td>1.45</td>\n",
       "      <td>1.34</td>\n",
       "      <td>2.05</td>\n",
       "      <td>281.71</td>\n",
       "    </tr>\n",
       "  </tbody>\n",
       "</table>\n",
       "</div>"
      ],
      "text/plain": [
       "          Commodity Record Date  Farm Price  Atlanta Retail  Chicago Retail  \\\n",
       "0      Strawberries  2019-05-19        1.16            2.23            1.70   \n",
       "1   Romaine Lettuce  2019-05-19        0.35            1.72            2.00   \n",
       "2  Red Leaf Lettuce  2019-05-19        0.32            1.84            1.84   \n",
       "3          Potatoes  2019-05-19        1.50            5.32            5.14   \n",
       "4           Oranges  2019-05-19        0.41            1.42            1.45   \n",
       "\n",
       "   Los Angeles Retail  New York Retail  Average Spread  \n",
       "0                1.99             2.54           82.33  \n",
       "1                1.69             1.99          428.57  \n",
       "2                1.69             1.89          467.19  \n",
       "3                3.99             6.22          244.50  \n",
       "4                1.34             2.05          281.71  "
      ]
     },
     "execution_count": 6,
     "metadata": {},
     "output_type": "execute_result"
    }
   ],
   "source": [
    "data = pd.read_csv('data/productpriceindex.csv')\n",
    "data.head()"
   ]
  },
  {
   "cell_type": "code",
   "execution_count": 7,
   "metadata": {},
   "outputs": [
    {
     "data": {
      "text/html": [
       "<div>\n",
       "<style scoped>\n",
       "    .dataframe tbody tr th:only-of-type {\n",
       "        vertical-align: middle;\n",
       "    }\n",
       "\n",
       "    .dataframe tbody tr th {\n",
       "        vertical-align: top;\n",
       "    }\n",
       "\n",
       "    .dataframe thead th {\n",
       "        text-align: right;\n",
       "    }\n",
       "</style>\n",
       "<table border=\"1\" class=\"dataframe\">\n",
       "  <thead>\n",
       "    <tr style=\"text-align: right;\">\n",
       "      <th></th>\n",
       "      <th>Commodity</th>\n",
       "      <th>Record Date</th>\n",
       "      <th>Farm Price</th>\n",
       "      <th>Atlanta Retail</th>\n",
       "      <th>Chicago Retail</th>\n",
       "      <th>Los Angeles Retail</th>\n",
       "      <th>New York Retail</th>\n",
       "      <th>Average Spread</th>\n",
       "    </tr>\n",
       "  </thead>\n",
       "  <tbody>\n",
       "    <tr>\n",
       "      <th>2019-05-19</th>\n",
       "      <td>Strawberries</td>\n",
       "      <td>2019-05-19</td>\n",
       "      <td>1.16</td>\n",
       "      <td>2.23</td>\n",
       "      <td>1.70</td>\n",
       "      <td>1.99</td>\n",
       "      <td>2.54</td>\n",
       "      <td>82.33</td>\n",
       "    </tr>\n",
       "    <tr>\n",
       "      <th>2019-05-19</th>\n",
       "      <td>Romaine Lettuce</td>\n",
       "      <td>2019-05-19</td>\n",
       "      <td>0.35</td>\n",
       "      <td>1.72</td>\n",
       "      <td>2.00</td>\n",
       "      <td>1.69</td>\n",
       "      <td>1.99</td>\n",
       "      <td>428.57</td>\n",
       "    </tr>\n",
       "    <tr>\n",
       "      <th>2019-05-19</th>\n",
       "      <td>Red Leaf Lettuce</td>\n",
       "      <td>2019-05-19</td>\n",
       "      <td>0.32</td>\n",
       "      <td>1.84</td>\n",
       "      <td>1.84</td>\n",
       "      <td>1.69</td>\n",
       "      <td>1.89</td>\n",
       "      <td>467.19</td>\n",
       "    </tr>\n",
       "    <tr>\n",
       "      <th>2019-05-19</th>\n",
       "      <td>Potatoes</td>\n",
       "      <td>2019-05-19</td>\n",
       "      <td>1.50</td>\n",
       "      <td>5.32</td>\n",
       "      <td>5.14</td>\n",
       "      <td>3.99</td>\n",
       "      <td>6.22</td>\n",
       "      <td>244.50</td>\n",
       "    </tr>\n",
       "    <tr>\n",
       "      <th>2019-05-19</th>\n",
       "      <td>Oranges</td>\n",
       "      <td>2019-05-19</td>\n",
       "      <td>0.41</td>\n",
       "      <td>1.42</td>\n",
       "      <td>1.45</td>\n",
       "      <td>1.34</td>\n",
       "      <td>2.05</td>\n",
       "      <td>281.71</td>\n",
       "    </tr>\n",
       "  </tbody>\n",
       "</table>\n",
       "</div>"
      ],
      "text/plain": [
       "                   Commodity Record Date  Farm Price  Atlanta Retail  \\\n",
       "2019-05-19      Strawberries  2019-05-19        1.16            2.23   \n",
       "2019-05-19   Romaine Lettuce  2019-05-19        0.35            1.72   \n",
       "2019-05-19  Red Leaf Lettuce  2019-05-19        0.32            1.84   \n",
       "2019-05-19          Potatoes  2019-05-19        1.50            5.32   \n",
       "2019-05-19           Oranges  2019-05-19        0.41            1.42   \n",
       "\n",
       "            Chicago Retail  Los Angeles Retail  New York Retail  \\\n",
       "2019-05-19            1.70                1.99             2.54   \n",
       "2019-05-19            2.00                1.69             1.99   \n",
       "2019-05-19            1.84                1.69             1.89   \n",
       "2019-05-19            5.14                3.99             6.22   \n",
       "2019-05-19            1.45                1.34             2.05   \n",
       "\n",
       "            Average Spread  \n",
       "2019-05-19           82.33  \n",
       "2019-05-19          428.57  \n",
       "2019-05-19          467.19  \n",
       "2019-05-19          244.50  \n",
       "2019-05-19          281.71  "
      ]
     },
     "execution_count": 7,
     "metadata": {},
     "output_type": "execute_result"
    }
   ],
   "source": [
    "# Using Record Date as index\n",
    "data.set_index(pd.to_datetime(data['Record Date'].values), inplace=True)\n",
    "data.head()"
   ]
  },
  {
   "cell_type": "code",
   "execution_count": 8,
   "metadata": {},
   "outputs": [],
   "source": [
    "# Time series for Strawberries\n",
    "def maketimeserieplot(commodity):\n",
    "    plt.figure(figsize=(16, 9))\n",
    "    subset = data[data['Commodity'] == commodity]\n",
    "    for i in range(2, 7):\n",
    "        column = subset.columns[i]\n",
    "        if i == 2:\n",
    "            plt.plot(subset.index, subset[column], label=column)\n",
    "        else:\n",
    "            plt.plot(subset.index, subset[column], label=column, linewidth=0.2)\n",
    "    plt.legend()\n",
    "    plt.ylabel('Price (USD)')"
   ]
  },
  {
   "cell_type": "code",
   "execution_count": 9,
   "metadata": {},
   "outputs": [
    {
     "data": {
      "application/vnd.jupyter.widget-view+json": {
       "model_id": "f21698203b124b0a895c4e245fba94fe",
       "version_major": 2,
       "version_minor": 0
      },
      "text/plain": [
       "interactive(children=(Dropdown(description='Commodity', options=(('Asparagus', 0), ('Avocados', 1), ('Broccoli…"
      ]
     },
     "metadata": {},
     "output_type": "display_data"
    },
    {
     "data": {
      "text/plain": [
       "<function __main__.control(n)>"
      ]
     },
     "execution_count": 9,
     "metadata": {},
     "output_type": "execute_result"
    }
   ],
   "source": [
    "labels = data.Commodity.sort_values().unique()\n",
    "pack = [(label, i) for i, label in enumerate(labels)]\n",
    "\n",
    "def control(n):\n",
    "    maketimeserieplot(labels[n])\n",
    "\n",
    "interact(control, n=widgets.Dropdown(options=pack, value=0, description='Commodity'))"
   ]
  },
  {
   "cell_type": "code",
   "execution_count": null,
   "metadata": {},
   "outputs": [],
   "source": []
  }
 ],
 "metadata": {
  "kernelspec": {
   "display_name": "Python 3",
   "language": "python",
   "name": "python3"
  },
  "language_info": {
   "codemirror_mode": {
    "name": "ipython",
    "version": 3
   },
   "file_extension": ".py",
   "mimetype": "text/x-python",
   "name": "python",
   "nbconvert_exporter": "python",
   "pygments_lexer": "ipython3",
   "version": "3.8.1"
  }
 },
 "nbformat": 4,
 "nbformat_minor": 4
}
