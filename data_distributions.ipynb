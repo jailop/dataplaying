{
 "cells": [
  {
   "cell_type": "markdown",
   "metadata": {},
   "source": [
    "# Data distributions\n",
    "\n",
    "Feb. 2020\n",
    "\n",
    "Usually, the first step to deal with a dataset is exploring how it is distributed. That is, for each one of its attributes, dividing the range between its maximum and minumun values in intervals and counting how many observations fall in each one of them.\n",
    "\n",
    "In this notebook it is shown how to visualize or estimate data distributions using the [Iris dataset](https://archive.ics.uci.edu/ml/datasets/Iris) as an example. The Iris dataset has four attributes: sepal length, sepal width, petal length, and petal width, all of them measured in centimeters; and there are three classes: iris-setosa, iris-versicolour, and iris-virginica"
   ]
  },
  {
   "cell_type": "code",
   "execution_count": 1,
   "metadata": {},
   "outputs": [],
   "source": [
    "# Loading libraries\n",
    "import matplotlib.pyplot as plt\n",
    "from sklearn import datasets\n",
    "from ipywidgets import interact\n",
    "import ipywidgets as widgets"
   ]
  },
  {
   "cell_type": "code",
   "execution_count": 4,
   "metadata": {},
   "outputs": [],
   "source": [
    "# Loading the dataset\n",
    "iris = datasets.load_iris()\n",
    "labels = ['sepal length', 'sepal width', 'petal length', 'petal width']"
   ]
  },
  {
   "cell_type": "markdown",
   "metadata": {},
   "source": [
    "One way to visualize data distributions is using histograms."
   ]
  },
  {
   "cell_type": "code",
   "execution_count": 31,
   "metadata": {},
   "outputs": [
    {
     "data": {
      "application/vnd.jupyter.widget-view+json": {
       "model_id": "476c614131714fadb16e65f618a23739",
       "version_major": 2,
       "version_minor": 0
      },
      "text/plain": [
       "interactive(children=(Dropdown(description='attr', options=(('sepal length', 0), ('sepal width', 1), ('petal l…"
      ]
     },
     "metadata": {},
     "output_type": "display_data"
    },
    {
     "data": {
      "text/plain": [
       "<function __main__.f(attr=0, bins=20)>"
      ]
     },
     "execution_count": 31,
     "metadata": {},
     "output_type": "execute_result"
    }
   ],
   "source": [
    "attributes = [el for el in zip(labels, range(4))]\n",
    "\n",
    "def f(attr=0, bins=20):\n",
    "    plt.hist(iris.data[:,attr], bins=bins)\n",
    "    plt.xlabel('{} (cm)'.format(attributes[attr][0]))\n",
    "    plt.ylabel('freq')\n",
    "\n",
    "interact(f, attr=attributes, bins=(10, 100))"
   ]
  },
  {
   "cell_type": "markdown",
   "metadata": {},
   "source": [
    "Furthermore, boxplots are useful to compare distribution of two or more attributes."
   ]
  },
  {
   "cell_type": "code",
   "execution_count": 28,
   "metadata": {},
   "outputs": [
    {
     "data": {
      "text/plain": [
       "Text(0, 0.5, 'cm')"
      ]
     },
     "execution_count": 28,
     "metadata": {},
     "output_type": "execute_result"
    },
    {
     "data": {
      "image/png": "[encoded data removed]",
      "text/plain": [
       "<Figure size 432x288 with 1 Axes>"
      ]
     },
     "metadata": {
      "needs_background": "light"
     },
     "output_type": "display_data"
    }
   ],
   "source": [
    "ax = plt.figure().add_subplot(111)\n",
    "ax.boxplot(iris.data)\n",
    "ax.set_xticklabels(labels)\n",
    "ax.set_ylabel('cm')"
   ]
  },
  {
   "cell_type": "code",
   "execution_count": null,
   "metadata": {},
   "outputs": [],
   "source": []
  }
 ],
 "metadata": {
  "kernelspec": {
   "display_name": "Python 3",
   "language": "python",
   "name": "python3"
  },
  "language_info": {
   "codemirror_mode": {
    "name": "ipython",
    "version": 3
   },
   "file_extension": ".py",
   "mimetype": "text/x-python",
   "name": "python",
   "nbconvert_exporter": "python",
   "pygments_lexer": "ipython3",
   "version": "3.8.1"
  }
 },
 "nbformat": 4,
 "nbformat_minor": 4
}
